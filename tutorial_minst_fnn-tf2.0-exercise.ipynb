{
 "cells": [
  {
   "cell_type": "markdown",
   "metadata": {},
   "source": [
    "## 准备数据"
   ]
  },
  {
   "cell_type": "code",
   "execution_count": 2,
   "metadata": {},
   "outputs": [
    {
     "name": "stdout",
     "output_type": "stream",
     "text": [
      "WARNING:tensorflow:From g:\\Python\\lib\\site-packages\\keras\\src\\losses.py:2976: The name tf.losses.sparse_softmax_cross_entropy is deprecated. Please use tf.compat.v1.losses.sparse_softmax_cross_entropy instead.\n",
      "\n"
     ]
    }
   ],
   "source": [
    "import os\n",
    "import numpy as np\n",
    "import tensorflow as tf\n",
    "from tensorflow import keras\n",
    "from tensorflow.keras import layers, optimizers, datasets\n",
    "\n",
    "os.environ['TF_CPP_MIN_LOG_LEVEL'] = '2'  # or any {'0', '1', '2'}\n",
    "\n",
    "def mnist_dataset():\n",
    "    (x, y), (x_test, y_test) = datasets.mnist.load_data()\n",
    "    #normalize\n",
    "    x = x/255.0\n",
    "    x_test = x_test/255.0\n",
    "    \n",
    "    return (x, y), (x_test, y_test)"
   ]
  },
  {
   "cell_type": "code",
   "execution_count": 3,
   "metadata": {},
   "outputs": [
    {
     "name": "stdout",
     "output_type": "stream",
     "text": [
      "[(1, 'a'), (2, 'b'), (3, 'c'), (4, 'd')]\n"
     ]
    }
   ],
   "source": [
    "print(list(zip([1, 2, 3, 4], ['a', 'b', 'c', 'd'])))"
   ]
  },
  {
   "cell_type": "markdown",
   "metadata": {},
   "source": [
    "## 建立模型"
   ]
  },
  {
   "cell_type": "code",
   "execution_count": 4,
   "metadata": {},
   "outputs": [],
   "source": [
    "class myModel:\n",
    "    def __init__(self):\n",
    "        ####################\n",
    "        '''声明模型对应的参数'''\n",
    "        ####################\n",
    "        self.W1 = tf.Variable(shape=[28*28, 100], dtype=tf.float32,\n",
    "                         initial_value=tf.random.uniform(shape=[28*28, 100],\n",
    "                                                         minval=-0.1, maxval=0.1))\n",
    "        self.b1 = tf.Variable(shape=[100], dtype=tf.float32, initial_value=tf.zeros(100))\n",
    "        self.W2 = tf.Variable(shape=[100, 10], dtype=tf.float32,\n",
    "                         initial_value=tf.random.uniform(shape=[100, 10],\n",
    "                                                         minval=-0.1, maxval=0.1))\n",
    "        self.b2 = tf.Variable(shape=[10], dtype=tf.float32, initial_value=tf.zeros(10))\n",
    "        self.trainable_variables = [self.W1, self.W2, self.b1, self.b2]\n",
    "    def __call__(self, x):\n",
    "        ####################\n",
    "        '''实现模型函数体，返回未归一化的logits'''\n",
    "        ####################\n",
    "        flat_x = tf.reshape(x, shape=[-1, 28*28])\n",
    "        h1 = tf.tanh(tf.matmul(flat_x, self.W1) + self.b1)\n",
    "        logits = tf.matmul(h1, self.W2) + self.b2\n",
    "        return logits\n",
    "   \n",
    "model = myModel()\n",
    "\n",
    "optimizer = optimizers.Adam()"
   ]
  },
  {
   "cell_type": "markdown",
   "metadata": {},
   "source": [
    "## 计算 loss"
   ]
  },
  {
   "cell_type": "code",
   "execution_count": 5,
   "metadata": {},
   "outputs": [],
   "source": [
    "@tf.function\n",
    "def compute_loss(logits, labels):\n",
    "    return tf.reduce_mean(\n",
    "        tf.nn.sparse_softmax_cross_entropy_with_logits(\n",
    "            logits=logits, labels=labels))\n",
    "\n",
    "@tf.function\n",
    "def compute_accuracy(logits, labels):\n",
    "    predictions = tf.argmax(logits, axis=1)\n",
    "    return tf.reduce_mean(tf.cast(tf.equal(predictions, labels), tf.float32))\n",
    "\n",
    "@tf.function\n",
    "def train_one_step(model, optimizer, x, y):\n",
    "    with tf.GradientTape() as tape:\n",
    "        logits = model(x)\n",
    "        loss = compute_loss(logits, y)\n",
    "\n",
    "    # compute gradient\n",
    "    trainable_vars = [model.W1, model.W2, model.b1, model.b2]\n",
    "    grads = tape.gradient(loss, trainable_vars)\n",
    "    for g, v in zip(grads, trainable_vars):\n",
    "        v.assign_sub(0.01*g)\n",
    "\n",
    "    accuracy = compute_accuracy(logits, y)\n",
    "\n",
    "    # loss and accuracy is scalar tensor\n",
    "    return loss, accuracy\n",
    "\n",
    "@tf.function\n",
    "def test(model, x, y):\n",
    "    logits = model(x)\n",
    "    loss = compute_loss(logits, y)\n",
    "    accuracy = compute_accuracy(logits, y)\n",
    "    return loss, accuracy"
   ]
  },
  {
   "cell_type": "markdown",
   "metadata": {},
   "source": [
    "## 实际训练"
   ]
  },
  {
   "cell_type": "code",
   "execution_count": 6,
   "metadata": {},
   "outputs": [
    {
     "name": "stdout",
     "output_type": "stream",
     "text": [
      "epoch 0 : loss 2.297212 ; accuracy 0.17315\n",
      "epoch 1 : loss 2.2919717 ; accuracy 0.17833333\n",
      "epoch 2 : loss 2.286759 ; accuracy 0.18346667\n",
      "epoch 3 : loss 2.2815723 ; accuracy 0.18813333\n",
      "epoch 4 : loss 2.2764125 ; accuracy 0.19291666\n",
      "epoch 5 : loss 2.2712781 ; accuracy 0.19781667\n",
      "epoch 6 : loss 2.2661688 ; accuracy 0.20255\n",
      "epoch 7 : loss 2.2610843 ; accuracy 0.20695\n",
      "epoch 8 : loss 2.2560234 ; accuracy 0.21136667\n",
      "epoch 9 : loss 2.2509859 ; accuracy 0.21596667\n",
      "epoch 10 : loss 2.245972 ; accuracy 0.22018333\n",
      "epoch 11 : loss 2.2409797 ; accuracy 0.225\n",
      "epoch 12 : loss 2.2360094 ; accuracy 0.2293\n",
      "epoch 13 : loss 2.231061 ; accuracy 0.23325\n",
      "epoch 14 : loss 2.2261333 ; accuracy 0.2377\n",
      "epoch 15 : loss 2.221226 ; accuracy 0.24171667\n",
      "epoch 16 : loss 2.216339 ; accuracy 0.24591666\n",
      "epoch 17 : loss 2.2114718 ; accuracy 0.2505\n",
      "epoch 18 : loss 2.206624 ; accuracy 0.25458333\n",
      "epoch 19 : loss 2.201795 ; accuracy 0.2589\n",
      "epoch 20 : loss 2.196984 ; accuracy 0.26306668\n",
      "epoch 21 : loss 2.1921916 ; accuracy 0.26711667\n",
      "epoch 22 : loss 2.1874173 ; accuracy 0.27133334\n",
      "epoch 23 : loss 2.1826594 ; accuracy 0.2759\n",
      "epoch 24 : loss 2.1779191 ; accuracy 0.28061667\n",
      "epoch 25 : loss 2.1731954 ; accuracy 0.28538334\n",
      "epoch 26 : loss 2.1684878 ; accuracy 0.29043335\n",
      "epoch 27 : loss 2.1637964 ; accuracy 0.29528335\n",
      "epoch 28 : loss 2.1591208 ; accuracy 0.29935\n",
      "epoch 29 : loss 2.1544604 ; accuracy 0.30395\n",
      "epoch 30 : loss 2.1498153 ; accuracy 0.30898333\n",
      "epoch 31 : loss 2.1451845 ; accuracy 0.3132\n",
      "epoch 32 : loss 2.1405687 ; accuracy 0.3185\n",
      "epoch 33 : loss 2.135967 ; accuracy 0.32325\n",
      "epoch 34 : loss 2.1313791 ; accuracy 0.32783332\n",
      "epoch 35 : loss 2.126805 ; accuracy 0.33248332\n",
      "epoch 36 : loss 2.1222441 ; accuracy 0.33743334\n",
      "epoch 37 : loss 2.1176965 ; accuracy 0.34246665\n",
      "epoch 38 : loss 2.1131618 ; accuracy 0.34736666\n",
      "epoch 39 : loss 2.10864 ; accuracy 0.35205\n",
      "epoch 40 : loss 2.1041303 ; accuracy 0.35725\n",
      "epoch 41 : loss 2.099633 ; accuracy 0.36255\n",
      "epoch 42 : loss 2.0951476 ; accuracy 0.36731666\n",
      "epoch 43 : loss 2.0906742 ; accuracy 0.372\n",
      "epoch 44 : loss 2.0862124 ; accuracy 0.37678334\n",
      "epoch 45 : loss 2.0817618 ; accuracy 0.38155\n",
      "epoch 46 : loss 2.0773225 ; accuracy 0.386\n",
      "epoch 47 : loss 2.0728943 ; accuracy 0.39041665\n",
      "epoch 48 : loss 2.0684767 ; accuracy 0.39571667\n",
      "epoch 49 : loss 2.0640697 ; accuracy 0.40063334\n",
      "epoch 50 : loss 2.0596735 ; accuracy 0.4057\n",
      "epoch 51 : loss 2.0552871 ; accuracy 0.4108\n",
      "epoch 52 : loss 2.0509114 ; accuracy 0.41525\n",
      "epoch 53 : loss 2.0465453 ; accuracy 0.42031667\n",
      "epoch 54 : loss 2.0421891 ; accuracy 0.42515\n",
      "epoch 55 : loss 2.0378428 ; accuracy 0.42988333\n",
      "epoch 56 : loss 2.0335057 ; accuracy 0.43461666\n",
      "epoch 57 : loss 2.0291781 ; accuracy 0.4387\n",
      "epoch 58 : loss 2.02486 ; accuracy 0.44271666\n",
      "epoch 59 : loss 2.0205505 ; accuracy 0.44736665\n",
      "epoch 60 : loss 2.0162504 ; accuracy 0.45211667\n",
      "epoch 61 : loss 2.011959 ; accuracy 0.45648333\n",
      "epoch 62 : loss 2.0076766 ; accuracy 0.4606\n",
      "epoch 63 : loss 2.0034027 ; accuracy 0.46456668\n",
      "epoch 64 : loss 1.9991373 ; accuracy 0.4686\n",
      "epoch 65 : loss 1.9948802 ; accuracy 0.47241667\n",
      "epoch 66 : loss 1.9906315 ; accuracy 0.47616667\n",
      "epoch 67 : loss 1.9863912 ; accuracy 0.48\n",
      "epoch 68 : loss 1.9821589 ; accuracy 0.48376667\n",
      "epoch 69 : loss 1.9779347 ; accuracy 0.4875\n",
      "epoch 70 : loss 1.9737185 ; accuracy 0.49121666\n",
      "epoch 71 : loss 1.9695101 ; accuracy 0.49481666\n",
      "epoch 72 : loss 1.9653094 ; accuracy 0.49863333\n",
      "epoch 73 : loss 1.9611167 ; accuracy 0.50193334\n",
      "epoch 74 : loss 1.9569312 ; accuracy 0.5056667\n",
      "epoch 75 : loss 1.9527539 ; accuracy 0.5093667\n",
      "epoch 76 : loss 1.9485836 ; accuracy 0.5129667\n",
      "epoch 77 : loss 1.944421 ; accuracy 0.51593333\n",
      "epoch 78 : loss 1.9402659 ; accuracy 0.51935\n",
      "epoch 79 : loss 1.9361179 ; accuracy 0.52313334\n",
      "epoch 80 : loss 1.9319774 ; accuracy 0.5265333\n",
      "epoch 81 : loss 1.927844 ; accuracy 0.52995\n",
      "epoch 82 : loss 1.9237177 ; accuracy 0.53305\n",
      "epoch 83 : loss 1.9195987 ; accuracy 0.5359667\n",
      "epoch 84 : loss 1.9154867 ; accuracy 0.5388167\n",
      "epoch 85 : loss 1.911382 ; accuracy 0.542\n",
      "epoch 86 : loss 1.907284 ; accuracy 0.5452667\n",
      "epoch 87 : loss 1.9031931 ; accuracy 0.54865\n",
      "epoch 88 : loss 1.8991092 ; accuracy 0.55151665\n",
      "epoch 89 : loss 1.8950323 ; accuracy 0.5542\n",
      "epoch 90 : loss 1.8909624 ; accuracy 0.55685\n",
      "epoch 91 : loss 1.8868992 ; accuracy 0.55981666\n",
      "epoch 92 : loss 1.882843 ; accuracy 0.5625333\n",
      "epoch 93 : loss 1.8787935 ; accuracy 0.5654167\n",
      "epoch 94 : loss 1.8747507 ; accuracy 0.56838334\n",
      "epoch 95 : loss 1.8707149 ; accuracy 0.5711333\n",
      "epoch 96 : loss 1.866686 ; accuracy 0.57425\n",
      "epoch 97 : loss 1.8626636 ; accuracy 0.57695\n",
      "epoch 98 : loss 1.8586483 ; accuracy 0.5795\n",
      "epoch 99 : loss 1.8546395 ; accuracy 0.58211666\n",
      "test loss 1.8431654 ; accuracy 0.5889\n"
     ]
    }
   ],
   "source": [
    "train_data, test_data = mnist_dataset()\n",
    "for epoch in range(100):\n",
    "    loss, accuracy = train_one_step(model, optimizer, \n",
    "                                    tf.constant(train_data[0], dtype=tf.float32), \n",
    "                                    tf.constant(train_data[1], dtype=tf.int64))\n",
    "    print('epoch', epoch, ': loss', loss.numpy(), '; accuracy', accuracy.numpy())\n",
    "loss, accuracy = test(model, \n",
    "                      tf.constant(test_data[0], dtype=tf.float32), \n",
    "                      tf.constant(test_data[1], dtype=tf.int64))\n",
    "\n",
    "print('test loss', loss.numpy(), '; accuracy', accuracy.numpy())"
   ]
  }
 ],
 "metadata": {
  "kernelspec": {
   "display_name": "Python 3",
   "language": "python",
   "name": "python3"
  },
  "language_info": {
   "codemirror_mode": {
    "name": "ipython",
    "version": 3
   },
   "file_extension": ".py",
   "mimetype": "text/x-python",
   "name": "python",
   "nbconvert_exporter": "python",
   "pygments_lexer": "ipython3",
   "version": "3.10.7"
  }
 },
 "nbformat": 4,
 "nbformat_minor": 2
}
