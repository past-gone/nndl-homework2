{
 "cells": [
  {
   "cell_type": "markdown",
   "metadata": {},
   "source": [
    "## 准备数据"
   ]
  },
  {
   "cell_type": "code",
   "execution_count": 1,
   "metadata": {},
   "outputs": [
    {
     "name": "stdout",
     "output_type": "stream",
     "text": [
      "WARNING:tensorflow:From g:\\Python\\lib\\site-packages\\keras\\src\\losses.py:2976: The name tf.losses.sparse_softmax_cross_entropy is deprecated. Please use tf.compat.v1.losses.sparse_softmax_cross_entropy instead.\n",
      "\n"
     ]
    }
   ],
   "source": [
    "import os\n",
    "import numpy as np\n",
    "import tensorflow as tf\n",
    "from tensorflow import keras\n",
    "from tensorflow.keras import layers, optimizers, datasets\n",
    "\n",
    "os.environ['TF_CPP_MIN_LOG_LEVEL'] = '2'  # or any {'0', '1', '2'}\n",
    "\n",
    "def mnist_dataset():\n",
    "    (x, y), (x_test, y_test) = datasets.mnist.load_data()\n",
    "    #normalize\n",
    "    x = x/255.0\n",
    "    x_test = x_test/255.0\n",
    "    \n",
    "    return (x, y), (x_test, y_test)"
   ]
  },
  {
   "cell_type": "code",
   "execution_count": 2,
   "metadata": {},
   "outputs": [
    {
     "name": "stdout",
     "output_type": "stream",
     "text": [
      "[(1, 'a'), (2, 'b'), (3, 'c'), (4, 'd')]\n"
     ]
    }
   ],
   "source": [
    "print(list(zip([1, 2, 3, 4], ['a', 'b', 'c', 'd'])))"
   ]
  },
  {
   "cell_type": "markdown",
   "metadata": {},
   "source": [
    "## 建立模型"
   ]
  },
  {
   "cell_type": "code",
   "execution_count": 3,
   "metadata": {},
   "outputs": [],
   "source": [
    "class myModel:\n",
    "    def __init__(self):\n",
    "        ####################\n",
    "        '''声明模型对应的参数'''\n",
    "        ####################\n",
    "        self.W1 = tf.Variable(shape=[28*28, 100], dtype=tf.float32,\n",
    "                         initial_value=tf.random.uniform(shape=[28*28, 100],\n",
    "                                                         minval=-0.1, maxval=0.1))\n",
    "        self.b1 = tf.Variable(shape=[100], dtype=tf.float32, initial_value=tf.zeros(100))\n",
    "        self.W2 = tf.Variable(shape=[100, 10], dtype=tf.float32,\n",
    "                         initial_value=tf.random.uniform(shape=[100, 10],\n",
    "                                                         minval=-0.1, maxval=0.1))\n",
    "        self.b2 = tf.Variable(shape=[10], dtype=tf.float32, initial_value=tf.zeros(10))\n",
    "        self.trainable_variables = [self.W1, self.W2, self.b1, self.b2]\n",
    "    def __call__(self, x):\n",
    "        ####################\n",
    "        '''实现模型函数体，返回未归一化的logits'''\n",
    "        ####################\n",
    "        flat_x = tf.reshape(x, shape=[-1, 28*28])\n",
    "        h1 = tf.tanh(tf.matmul(flat_x, self.W1) + self.b1)\n",
    "        logits = tf.matmul(h1, self.W2) + self.b2\n",
    "        return logits\n",
    "   \n",
    "model = myModel()\n",
    "\n",
    "optimizer = optimizers.Adam()"
   ]
  },
  {
   "cell_type": "markdown",
   "metadata": {},
   "source": [
    "## 计算 loss"
   ]
  },
  {
   "cell_type": "code",
   "execution_count": 4,
   "metadata": {},
   "outputs": [],
   "source": [
    "@tf.function\n",
    "def compute_loss(logits, labels):\n",
    "    return tf.reduce_mean(\n",
    "        tf.nn.sparse_softmax_cross_entropy_with_logits(\n",
    "            logits=logits, labels=labels))\n",
    "\n",
    "@tf.function\n",
    "def compute_accuracy(logits, labels):\n",
    "    predictions = tf.argmax(logits, axis=1)\n",
    "    return tf.reduce_mean(tf.cast(tf.equal(predictions, labels), tf.float32))\n",
    "\n",
    "@tf.function\n",
    "def train_one_step(model, optimizer, x, y):\n",
    "    with tf.GradientTape() as tape:\n",
    "        logits = model(x)\n",
    "        loss = compute_loss(logits, y)\n",
    "\n",
    "    # compute gradient\n",
    "    trainable_vars = [model.W1, model.W2, model.b1, model.b2]\n",
    "    grads = tape.gradient(loss, trainable_vars)\n",
    "    for g, v in zip(grads, trainable_vars):\n",
    "        v.assign_sub(0.01*g)\n",
    "\n",
    "    accuracy = compute_accuracy(logits, y)\n",
    "\n",
    "    # loss and accuracy is scalar tensor\n",
    "    return loss, accuracy\n",
    "\n",
    "@tf.function\n",
    "def test(model, x, y):\n",
    "    logits = model(x)\n",
    "    loss = compute_loss(logits, y)\n",
    "    accuracy = compute_accuracy(logits, y)\n",
    "    return loss, accuracy"
   ]
  },
  {
   "cell_type": "markdown",
   "metadata": {},
   "source": [
    "## 实际训练"
   ]
  },
  {
   "cell_type": "code",
   "execution_count": 5,
   "metadata": {},
   "outputs": [
    {
     "name": "stdout",
     "output_type": "stream",
     "text": [
      "epoch 0 : loss 2.3355412 ; accuracy 0.081533335\n",
      "epoch 1 : loss 2.3303063 ; accuracy 0.08253333\n",
      "epoch 2 : loss 2.3251114 ; accuracy 0.083966665\n",
      "epoch 3 : loss 2.3199558 ; accuracy 0.08623333\n",
      "epoch 4 : loss 2.314837 ; accuracy 0.088\n",
      "epoch 5 : loss 2.3097541 ; accuracy 0.09031667\n",
      "epoch 6 : loss 2.3047066 ; accuracy 0.09273333\n",
      "epoch 7 : loss 2.2996926 ; accuracy 0.09561667\n",
      "epoch 8 : loss 2.2947118 ; accuracy 0.099183336\n",
      "epoch 9 : loss 2.2897625 ; accuracy 0.10265\n",
      "epoch 10 : loss 2.2848437 ; accuracy 0.10695\n",
      "epoch 11 : loss 2.2799542 ; accuracy 0.1115\n",
      "epoch 12 : loss 2.2750943 ; accuracy 0.11636667\n",
      "epoch 13 : loss 2.2702618 ; accuracy 0.12171666\n",
      "epoch 14 : loss 2.2654562 ; accuracy 0.12713334\n",
      "epoch 15 : loss 2.260677 ; accuracy 0.13255\n",
      "epoch 16 : loss 2.2559235 ; accuracy 0.13833334\n",
      "epoch 17 : loss 2.2511942 ; accuracy 0.14415\n",
      "epoch 18 : loss 2.2464893 ; accuracy 0.15033333\n",
      "epoch 19 : loss 2.2418072 ; accuracy 0.1567\n",
      "epoch 20 : loss 2.2371483 ; accuracy 0.1634\n",
      "epoch 21 : loss 2.232511 ; accuracy 0.17006667\n",
      "epoch 22 : loss 2.2278953 ; accuracy 0.17731667\n",
      "epoch 23 : loss 2.2233 ; accuracy 0.18381667\n",
      "epoch 24 : loss 2.218725 ; accuracy 0.19123334\n",
      "epoch 25 : loss 2.2141693 ; accuracy 0.19871667\n",
      "epoch 26 : loss 2.2096329 ; accuracy 0.20568334\n",
      "epoch 27 : loss 2.205115 ; accuracy 0.21303333\n",
      "epoch 28 : loss 2.2006152 ; accuracy 0.2203\n",
      "epoch 29 : loss 2.1961327 ; accuracy 0.2278\n",
      "epoch 30 : loss 2.191667 ; accuracy 0.23526667\n",
      "epoch 31 : loss 2.1872184 ; accuracy 0.24321666\n",
      "epoch 32 : loss 2.182786 ; accuracy 0.25063333\n",
      "epoch 33 : loss 2.178369 ; accuracy 0.25883332\n",
      "epoch 34 : loss 2.1739674 ; accuracy 0.26681668\n",
      "epoch 35 : loss 2.1695807 ; accuracy 0.27526668\n",
      "epoch 36 : loss 2.1652088 ; accuracy 0.2835\n",
      "epoch 37 : loss 2.1608505 ; accuracy 0.29178333\n",
      "epoch 38 : loss 2.1565065 ; accuracy 0.29956666\n",
      "epoch 39 : loss 2.1521757 ; accuracy 0.30761668\n",
      "epoch 40 : loss 2.1478581 ; accuracy 0.31655\n",
      "epoch 41 : loss 2.1435535 ; accuracy 0.32468334\n",
      "epoch 42 : loss 2.139261 ; accuracy 0.33281666\n",
      "epoch 43 : loss 2.1349807 ; accuracy 0.34055\n",
      "epoch 44 : loss 2.1307123 ; accuracy 0.34876665\n",
      "epoch 45 : loss 2.1264555 ; accuracy 0.35703334\n",
      "epoch 46 : loss 2.1222103 ; accuracy 0.36465\n",
      "epoch 47 : loss 2.1179757 ; accuracy 0.37258333\n",
      "epoch 48 : loss 2.113752 ; accuracy 0.37985\n",
      "epoch 49 : loss 2.1095388 ; accuracy 0.38731667\n",
      "test loss 2.1040778 ; accuracy 0.3914\n"
     ]
    }
   ],
   "source": [
    "train_data, test_data = mnist_dataset()\n",
    "for epoch in range(50):\n",
    "    loss, accuracy = train_one_step(model, optimizer, \n",
    "                                    tf.constant(train_data[0], dtype=tf.float32), \n",
    "                                    tf.constant(train_data[1], dtype=tf.int64))\n",
    "    print('epoch', epoch, ': loss', loss.numpy(), '; accuracy', accuracy.numpy())\n",
    "loss, accuracy = test(model, \n",
    "                      tf.constant(test_data[0], dtype=tf.float32), \n",
    "                      tf.constant(test_data[1], dtype=tf.int64))\n",
    "\n",
    "print('test loss', loss.numpy(), '; accuracy', accuracy.numpy())"
   ]
  }
 ],
 "metadata": {
  "kernelspec": {
   "display_name": "Python 3",
   "language": "python",
   "name": "python3"
  },
  "language_info": {
   "codemirror_mode": {
    "name": "ipython",
    "version": 3
   },
   "file_extension": ".py",
   "mimetype": "text/x-python",
   "name": "python",
   "nbconvert_exporter": "python",
   "pygments_lexer": "ipython3",
   "version": "3.10.7"
  }
 },
 "nbformat": 4,
 "nbformat_minor": 2
}
